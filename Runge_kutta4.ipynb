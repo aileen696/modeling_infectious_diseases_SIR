{
  "nbformat": 4,
  "nbformat_minor": 0,
  "metadata": {
    "colab": {
      "provenance": [],
      "include_colab_link": true
    },
    "kernelspec": {
      "name": "python3",
      "display_name": "Python 3"
    },
    "language_info": {
      "name": "python"
    }
  },
  "cells": [
    {
      "cell_type": "markdown",
      "metadata": {
        "id": "view-in-github",
        "colab_type": "text"
      },
      "source": [
        "<a href=\"https://colab.research.google.com/github/aileen696/modeling_infectious_diseases_SIR/blob/main/Runge_kutta4.ipynb\" target=\"_parent\"><img src=\"https://colab.research.google.com/assets/colab-badge.svg\" alt=\"Open In Colab\"/></a>"
      ]
    },
    {
      "cell_type": "markdown",
      "source": [
        "# Modelo SIR estocástico\n",
        "\n",
        "Para Resolver el modelo SIR estocastico lo resolveremos por el Algoritmo de Guillespie, para ello utilizaremos como vector de propensiones: \n",
        "\n",
        "v=[ beta* nS * ni/Omega , beta* nS* ni/Omega, gamma*ni]\n",
        "\n",
        "Matriz estequiométrica:\n",
        "\n",
        "S =[[-1.,0,0],[1,-1,0.],[0,1,]]\n",
        "\n",
        "Cabe recalcar que la matriz estequiométrica y el vector de propensiones fue elegido en función del Modelo SIR, para cualquier otro caso tendría que modelarse diferente."
      ],
      "metadata": {
        "id": "4WymKStpv3Qf"
      }
    },
    {
      "cell_type": "code",
      "source": [],
      "metadata": {
        "id": "jOZWQB6qygTd"
      },
      "execution_count": null,
      "outputs": []
    },
    {
      "cell_type": "code",
      "source": [
        "#Se importan las librerias necesarias\n",
        "import numpy as np #Para operaciones con vectores\n",
        "import math # para funciones matematicas\n",
        "import random as rnd #generacion de numeros aleatorios\n",
        "import matplotlib.pyplot as plt #para graficar\n",
        "\n",
        "#parametros\n",
        "beta = 1.5\n",
        "gamma = 0.7\n",
        "Omega= 10000\n",
        "Steps = 50000\n",
        "#condiciones iniciales\n",
        "t0=0.0\n",
        "X0=Omega-1.\n",
        "Y0=2.0\n",
        "R0=0\n",
        "\n",
        "#Se define la Matriz estoquiometrica vista en clase\n",
        "S =[[-1.,0.,0.],[1.,-1.,0.],[0.,1.,0.]]\n",
        "#Se inicializa los vectores solucion y el tiempo\n",
        "Y = np.zeros([3,Steps+1])\n",
        "t = np.zeros(Steps+1)\n",
        "#Se inicializan las condiciones iniciales\n",
        "Y[0][0]=X0\n",
        "Y[1][0]=Y0\n",
        "Y[2][0]=R0\n",
        "\n",
        "#funcion que genera numero aleatorio de distribucion exponencial\n",
        "def dist_exp(a):\n",
        "\tif(a>0.):\n",
        "\t\tr = rnd.random() #Se genera un numero aleatorio de distribucion uniforme\n",
        "\t\treturn -(1./a)*math.log(r) #Se tranforma en distribucion exponencial\n",
        "\telse:\n",
        "\t\tquit()\n",
        "\t\treturn 1\n",
        "\t\t\n",
        "\n",
        "#Elige aleatoriamente la reaccion definida en el vector\n",
        "# de propensiones ni y una tasa de reaccion global A\n",
        "def dist_reaction(ni,A):\n",
        "\tr = rnd.random() #Numero aleatorio de distribucion uniforme\n",
        "\tif (A>0.):\n",
        "\t\tif (r < ni[0]/A): #Se elige reaccion 0\n",
        "\t\t\treturn 0\n",
        "\t\telif (r < (ni[0] + ni[1])/A): #Se elige reaccion 1\n",
        "\t\t\treturn 1\n",
        "\telse:\n",
        "\t\treturn 2\n",
        "\n",
        "\t\n",
        "#ciclo del algoritmo\n",
        "for i in range(Steps):\n",
        "    \n",
        "    ni = np.array([beta*Y[0][i]*Y[1][i]/Omega, gamma*Y[1][i]])\n",
        "    a=sum(ni)\n",
        "    tau=dist_exp(a)\n",
        "    mu=dist_reaction(ni,a)\n",
        "    Y[0][i+1]=Y[0][i] + S[0][mu]\n",
        "    Y[1][i+1]=Y[1][i] + S[1][mu]\n",
        "    Y[2][i+1]=Y[2][i] + S[2][mu]\n",
        "    t[i+1]= t[i]+tau\n",
        "    \n",
        "    \n",
        "\n",
        "#se grafica el espacio fase\n",
        "plt.plot(Y[1])\n",
        "#Se grafica la evolucion en el tiempo\n",
        "plt.show()"
      ],
      "metadata": {
        "colab": {
          "base_uri": "https://localhost:8080/",
          "height": 265
        },
        "id": "QXLOLXJSwTpE",
        "outputId": "16e91dea-308a-4222-a52e-b745c339c7ca"
      },
      "execution_count": null,
      "outputs": [
        {
          "output_type": "display_data",
          "data": {
            "text/plain": [
              "<Figure size 432x288 with 1 Axes>"
            ],
            "image/png": "[encoded data removed]"
          },
          "metadata": {
            "needs_background": "light"
          }
        }
      ]
    },
    {
      "cell_type": "markdown",
      "source": [
        "# **Solución al Modelo SIR determinista**\n",
        "\n",
        "Se dará solución al modelo SIR poblacional con el Metodo Runge-Kutta 4 utilizando los siguientes parámetros:\n",
        "\n",
        "dS/dt = - (𝛽 S I) / 𝑁\n",
        "dI/dt= (𝛽 S I) /𝑁 - 𝛾 I\n",
        "\n",
        "dR/dt= 𝛾 I\n",
        "\n",
        "con los siguientes parámetros:\n",
        "\n",
        "𝑁: Population size          [10.000 , 1.000.000]\n",
        "\n",
        "𝛾:  Effective recovery rate            0.7\n",
        "\n",
        "𝛽:  Effective infection rate           [1.5 , 2.5]\n",
        "\n",
        "We define the initial condition in each patch as follows: 𝑆𝑖(0) = 𝑁𝑖\n",
        "\n",
        "𝐼𝑖(0) = 0,\n",
        "\n",
        "𝑅𝑖(0) = 0 for 𝑖 = 2, …, 𝑛\n",
        "\n",
        "𝑆1(0) = 𝑁1 − 1,\n",
        "\n",
        "𝐼1(0) = 1,\n",
        "\n",
        "𝑅1(0) = 0.\n",
        "\n",
        "\n"
      ],
      "metadata": {
        "id": "Z69yABK38yts"
      }
    },
    {
      "cell_type": "code",
      "source": [
        "\n",
        "\n",
        "def MetodoRungeKutta4Sistema(a, b, n, y0List, fList, yList = None, verbose = False, complete = False):\n",
        "  \n",
        "\n",
        "    m = len(fList)\n",
        "    if (verbose):\n",
        "        print(\"El sistema tiene {} ecuaciones\".format(m), end = \"\\n\\n\")\n",
        "\n",
        "    h = (b - a) / n  \n",
        "    if (verbose):  \n",
        "        print(\"h =\", h, end = \"\\n\\n\")\n",
        "\n",
        "    t = np.zeros(n + 1) # Ponemos n + 1 porque también incluimos el índice 0, array del tiempo\n",
        "    t[0] = a  #tiempo inicial es igual a la condición inicial\n",
        "    \n",
        "\n",
        "    yHat = np.zeros((m, n + 1)) #array con m filas y n+1 columnas\n",
        "    yHat[:, 0] = np.array( y0List) # La primera columna de la matriz de aproximaciones vale la condición iniciales\n",
        "        \n",
        "\n",
        "    k = np.zeros((m , 4))  #k del método Runge-Kutta\n",
        "    for i in range(1, n + 1):\n",
        "        for j in range(m):\n",
        "            k[j, 0] = fList[j](t[i - 1], yHat[:, i - 1])\n",
        "        for j in range(m):\n",
        "            k[j, 1] = fList[j](t[i - 1] + h / 2, yHat[:, i - 1] + (h * k[:, 0] / 2))\n",
        "        for j in range(m):\n",
        "            k[j, 2] = fList[j](t[i - 1] + h / 2, yHat[:, i - 1] + (h * k[:, 1] / 2))\n",
        "        for j in range(m):\n",
        "            k[j, 3] = fList[j](t[i - 1] + h, yHat[:, i - 1] + (h * k[:, 2]))\n",
        "        for j in range(m):\n",
        "            yHat[j, i] = yHat[j, i - 1] + h / 6 * (k[j, 0] + 2 * k[j, 1] +\n",
        "                                                   2 * k[j, 2] + k[j, 3])\n",
        "\n",
        "        t[i] = a + i * h  # el tiempo se actualiza con el tamaño de paso\n",
        "         \n",
        "        #if verbose:    **para ver los K**\n",
        "            #for i in range(4):\n",
        "                #for j in range(m):\n",
        "                    #print(\"k({}, {}) = {}\".format(j, i, k[j, i]), end = \"\\t\")\n",
        "                #print(\"\")\n",
        "            #print(\"\\n\\n\" + \"=\" * 75, end = \"\\n\\n\")\n",
        "    \n",
        "    data = pd.DataFrame({\"t\": t})\n",
        "    for col in range(m):\n",
        "        data[\"yHat\" + str(col + 1)] = yHat[col, : ]\n",
        "    \n",
        "    if verbose:\n",
        "        print(data)\n",
        "        fig = plt.figure(facecolor='w')\n",
        "        ax = fig.add_subplot(111, facecolor='#dddddd', axisbelow=True)\n",
        "        ax.plot(data[\"t\"], data[\"yHat1\"], 'b', alpha=0.5, lw=2, label='Susceptibles')\n",
        "        ax.plot(data[\"t\"], data[\"yHat2\"], 'r', alpha=0.5, lw=2, label='Infectados')\n",
        "        ax.plot(data[\"t\"], data[\"yHat3\"], 'g', alpha=0.5, lw=2, label='Recuperados')\n",
        "        ax.set_xlabel('time')\n",
        "        ax.set_ylabel('people')\n",
        "        #ax.set_ylim(0,(I0+R0+S0))\n",
        "        ax.yaxis.set_tick_params(length=0)\n",
        "        ax.xaxis.set_tick_params(length=0)\n",
        "        ax.grid(b=True, which='major', c='w', lw=2, ls='-')\n",
        "        legend = ax.legend()\n",
        "        legend.get_frame().set_alpha(0.5)\n",
        "        for spine in ('top', 'right', 'bottom', 'left'):\n",
        "          ax.spines[spine].set_visible(False)\n",
        "        plt.show()\n",
        "\n",
        "  \n",
        "    \n",
        "    if complete:\n",
        "        return data\n",
        "    return yHat\n",
        "\n",
        "    "
      ],
      "metadata": {
        "id": "uBXgG5DClWQx"
      },
      "execution_count": null,
      "outputs": []
    },
    {
      "cell_type": "code",
      "source": [
        "import numpy as np\n",
        "import pandas as pd\n",
        "import matplotlib.pyplot as plt\n",
        "\n",
        "\n",
        "N=10000\n",
        "gam=0.7\n",
        "bet=1.5\n",
        "\n",
        "a = 0\n",
        "b = 100\n",
        "n = 1000 # De este modo conseguimos h = 0.1\n",
        "y0 = np.array([N-1,1,0])\n",
        "\n",
        "def f1(t, x):\n",
        "    return  (-bet*x[0] * x[1])/N \n",
        "\n",
        "def f2(t, x): \n",
        "    return (bet*x[0] * x[1])/N - gam*x[1]\n",
        "\n",
        "def f3(t,x):\n",
        "    return  gam*x[1]\n",
        "\n",
        "#soluciones analíticas\n",
        "\n",
        "def y1(t):\n",
        "    return 0\n",
        "\n",
        "def y2(t):\n",
        "    return 0"
      ],
      "metadata": {
        "id": "SF5m-nBFlwX-"
      },
      "execution_count": null,
      "outputs": []
    },
    {
      "cell_type": "code",
      "source": [
        "yHat = MetodoRungeKutta4Sistema(a, b, n, y0, [f1, f2,f3], yList =None, verbose = True)"
      ],
      "metadata": {
        "colab": {
          "base_uri": "https://localhost:8080/",
          "height": 588
        },
        "id": "ZS-BFfPYl1Do",
        "outputId": "c1e3d928-d945-4744-8bfb-fa1c42db980e"
      },
      "execution_count": null,
      "outputs": [
        {
          "output_type": "stream",
          "name": "stdout",
          "text": [
            "El sistema tiene 3 ecuaciones\n",
            "\n",
            "h = 0.1\n",
            "\n",
            "          t        yHat1         yHat2        yHat3\n",
            "0       0.0  9999.000000  1.000000e+00     0.000000\n",
            "1       0.1  9998.843855  1.083270e+00     0.072876\n",
            "2       0.2  9998.674711  1.173470e+00     0.151819\n",
            "3       0.3  9998.491486  1.271178e+00     0.237336\n",
            "4       0.4  9998.293009  1.377017e+00     0.329974\n",
            "...     ...          ...           ...          ...\n",
            "996    99.6  1682.191889  3.636081e-14  8317.808111\n",
            "997    99.7  1682.191889  3.476894e-14  8317.808111\n",
            "998    99.8  1682.191889  3.324676e-14  8317.808111\n",
            "999    99.9  1682.191889  3.179123e-14  8317.808111\n",
            "1000  100.0  1682.191889  3.039941e-14  8317.808111\n",
            "\n",
            "[1001 rows x 4 columns]\n"
          ]
        },
        {
          "output_type": "display_data",
          "data": {
            "text/plain": [
              "<Figure size 432x288 with 1 Axes>"
            ],
            "image/png": "[encoded data removed]"
          },
          "metadata": {}
        }
      ]
    },
    {
      "cell_type": "code",
      "source": [
        "#Se importan las librerias necesarias\n",
        "import numpy as np #Para operaciones con vectores\n",
        "import math # para funciones matematicas\n",
        "import random as rnd #generacion de numeros aleatorios\n",
        "import matplotlib.pyplot as plt #para graficar\n",
        "\n",
        "#parametros\n",
        "beta = 1.5\n",
        "gamma = 0.7\n",
        "Omega= 10000\n",
        "Steps = 500000\n",
        "#condiciones iniciales\n",
        "t0=0.0\n",
        "X0=Omega-1.\n",
        "Y0=1.0\n",
        "R0=0\n",
        "\n",
        "#Se define la Matriz estoquiometrica vista en clase\n",
        "S =[[-1.,0.,0.],[1.,-1.,0.],[0.,1.,0.]]\n",
        "#Se inicializa los vectores solucion y el tiempo\n",
        "Y = np.zeros([3,Steps+1])\n",
        "t = np.zeros(Steps+1)\n",
        "#Se inicializan las condiciones iniciales\n",
        "Y[0][0]=X0\n",
        "Y[1][0]=Y0\n",
        "Y[2][0]=R0\n",
        "\n",
        "#funcion que genera numero aleatorio de distribucion exponencial\n",
        "#def dist_exp(a):\n",
        "#\tif(a>0.):\n",
        "#\t\tr = rnd.random() #Se genera un numero aleatorio de distribucion uniforme\n",
        "#\t\treturn -(1./a)*math.log(r) #Se tranforma en distribucion exponencial\n",
        "\n",
        "\n",
        "def dist_exp(a):\n",
        "  if(a>0):\n",
        "    r= rnd.random()\n",
        "    return -(1/a)*math.log(r)\n",
        "  else:\n",
        "    a=1\n",
        "    return a\n",
        "\n",
        "#Elige aleatoriamente la reaccion definida en el vector\n",
        "# de propensiones ni y una tasa de reaccion global A\n",
        "def dist_reaction(ni,A):\n",
        "\tr = rnd.random() #Numero aleatorio de distribucion uniforme\n",
        "\tif (A>0.):\n",
        "\t\tif (r < ni[0]/A): #Se elige reaccion 0\n",
        "\t\t\treturn 0\n",
        "\t\telif (r < (ni[0] + ni[1])/A): #Se elige reaccion 1\n",
        "\t\t\treturn 1\n",
        "\telse:\n",
        "\t\treturn 2\n",
        "\n",
        "\t\n",
        "#ciclo del algoritmo\n",
        "for i in range(Steps):\n",
        "    \n",
        "    ni = np.array([beta*Y[0][i]*Y[1][i]/Omega, gamma*Y[1][i]])\n",
        "    a=sum(ni)\n",
        "    tau=dist_exp(a)\n",
        "    mu=dist_reaction(ni,a)\n",
        "    Y[0][i+1]=Y[0][i] + S[0][mu]\n",
        "    Y[1][i+1]=Y[1][i] + S[1][mu]\n",
        "    Y[2][i+1]=Y[2][i] + S[2][mu]\n",
        "    t[i+1]= t[i]+tau\n",
        "    \n",
        "    \n",
        "\n",
        "#se grafica el espacio fase\n",
        "plt.plot(Y[0],Y[1])\n",
        "#Se grafica la evolucion en el tiempo\n",
        "plt.show()"
      ],
      "metadata": {
        "colab": {
          "base_uri": "https://localhost:8080/",
          "height": 265
        },
        "id": "QiZkOUf1utWd",
        "outputId": "202b3e74-e044-45fe-91e5-157a85ecd28c"
      },
      "execution_count": null,
      "outputs": [
        {
          "output_type": "display_data",
          "data": {
            "text/plain": [
              "<Figure size 432x288 with 1 Axes>"
            ],
            "image/png": "[encoded data removed]"
          },
          "metadata": {
            "needs_background": "light"
          }
        }
      ]
    }
  ]
}